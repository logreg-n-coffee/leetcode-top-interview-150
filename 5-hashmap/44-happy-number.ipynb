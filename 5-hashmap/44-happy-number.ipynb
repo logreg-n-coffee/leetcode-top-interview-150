{
 "cells": [
  {
   "cell_type": "markdown",
   "metadata": {},
   "source": [
    "# Question 44 - LC 202. Happy Number\n",
    "\n",
    "Write an algorithm to determine if a number `n` is happy.\n",
    "\n",
    "A **happy number** is a number defined by the following process:\n",
    "\n",
    "- Starting with any positive integer, replace the number by the sum of the squares of its digits.\n",
    "- Repeat the process until the number equals 1 (where it will stay), or it loops endlessly in a cycle which does not include 1.\n",
    "- Those numbers for which this process ends in 1 are happy.\n",
    "\n",
    "Return `true` if `n` is a _happy_ number, and `false` _if not_.\n",
    "\n",
    "**Example 1:**\n",
    "\n",
    "    Input: n = 19\n",
    "    Output: true\n",
    "\n",
    "    Explanation:\n",
    "\n",
    "    1^2 + 9^2 = 82\n",
    "    8^2 + 2^2 = 68\n",
    "    6^2 + 8^2 = 100\n",
    "    1^2 + 0^2 + 0^2 = 1\n"
   ]
  },
  {
   "cell_type": "markdown",
   "metadata": {},
   "source": [
    "\n",
    "**Example 2:**\n",
    "\n",
    "    Input: n = 2\n",
    "    Output: false\n",
    "\n",
    "**Constraints:**\n",
    "\n",
    "- `1 <= n <= 2^31 - 1`\n"
   ]
  },
  {
   "cell_type": "code",
   "execution_count": null,
   "metadata": {},
   "outputs": [],
   "source": [
    "class Solution:\n",
    "    def isHappy(self, n: int) -> bool:\n",
    "        \"\"\"Determine if n is a happy number.\"\"\"\n",
    "        slow, fast = n, self.sum_of_squares(n)\n",
    "        while fast != 1 and slow != fast:\n",
    "            slow = self.sum_of_squares(slow)  # Move slow pointer one step\n",
    "            fast = self.sum_of_squares(self.sum_of_squares(fast))  # Move fast pointer two steps\n",
    "        return fast == 1\n",
    "\n",
    "    def sum_of_squares(self, n):\n",
    "        \"\"\"Return the sum of the squares of the digits of n.\"\"\"\n",
    "        return sum(int(digit) ** 2 for digit in str(n))"
   ]
  }
 ],
 "metadata": {
  "kernelspec": {
   "display_name": "Python 3",
   "language": "python",
   "name": "python3"
  },
  "language_info": {
   "name": "python",
   "version": "3.11.7"
  }
 },
 "nbformat": 4,
 "nbformat_minor": 2
}
