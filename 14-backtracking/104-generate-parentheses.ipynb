{
 "cells": [
  {
   "cell_type": "markdown",
   "metadata": {},
   "source": [
    "# Question 104 - LC 22. Generate Parentheses\n",
    "\n",
    "Given `n` pairs of parentheses, write a function to _generate all combinations of well-formed parentheses_.\n",
    "\n",
    "## Example 1:\n",
    "\n",
    "    Input: n = 3\n",
    "    Output: [\"((()))\",\"(()())\",\"(())()\",\"()(())\",\"()()()\"]\n",
    "\n",
    "## Example 2:\n",
    "\n",
    "    Input: n = 1\n",
    "    Output: [\"()\"]\n",
    "\n",
    "## Constraints:\n",
    "\n",
    "- `1 <= n <= 8`\n"
   ]
  },
  {
   "cell_type": "code",
   "execution_count": 1,
   "metadata": {},
   "outputs": [],
   "source": [
    "class Solution:\n",
    "    def generateParenthesis(self, n: int) -> list[str]:\n",
    "        res: list[str] = []\n",
    "\n",
    "        def backtrack(curr: str, open: int, close: int):\n",
    "            # base case: When the length of the string reaches 2n (since each pair contributes two characters),\n",
    "            # a valid combination has been formed.\n",
    "            if len(curr) == 2 * n:\n",
    "                res.append(curr)\n",
    "                return\n",
    "\n",
    "            # If the number of open brackets is less than n, we can add an open bracket.\n",
    "            if open < n:\n",
    "                backtrack(curr + '(', open + 1, close)\n",
    "\n",
    "            # If the number of close brackets is less than the number of open brackets, we can add a close bracket.\n",
    "            if close < open:\n",
    "                backtrack(curr + ')', open, close + 1)\n",
    "\n",
    "        backtrack('', 0, 0)\n",
    "        return res"
   ]
  },
  {
   "cell_type": "code",
   "execution_count": 2,
   "metadata": {},
   "outputs": [
    {
     "ename": "AttributeError",
     "evalue": "'Solution' object has no attribute 'generate_parentheses'",
     "output_type": "error",
     "traceback": [
      "\u001b[1;31m---------------------------------------------------------------------------\u001b[0m",
      "\u001b[1;31mAttributeError\u001b[0m                            Traceback (most recent call last)",
      "Cell \u001b[1;32mIn[2], line 5\u001b[0m\n\u001b[0;32m      1\u001b[0m \u001b[38;5;66;03m# Testing the function with n = 3 and n = 1\u001b[39;00m\n\u001b[0;32m      3\u001b[0m s \u001b[38;5;241m=\u001b[39m Solution()\n\u001b[1;32m----> 5\u001b[0m generate_parentheses_3 \u001b[38;5;241m=\u001b[39m \u001b[43ms\u001b[49m\u001b[38;5;241;43m.\u001b[39;49m\u001b[43mgenerate_parentheses\u001b[49m(\u001b[38;5;241m3\u001b[39m)\n\u001b[0;32m      6\u001b[0m generate_parentheses_1 \u001b[38;5;241m=\u001b[39m s\u001b[38;5;241m.\u001b[39mgenerate_parentheses(\u001b[38;5;241m1\u001b[39m)\n\u001b[0;32m      8\u001b[0m generate_parentheses_3, generate_parentheses_1\n",
      "\u001b[1;31mAttributeError\u001b[0m: 'Solution' object has no attribute 'generate_parentheses'"
     ]
    }
   ],
   "source": [
    "# Testing the function with n = 3 and n = 1\n",
    "\n",
    "s = Solution()\n",
    "\n",
    "generate_parentheses_3 = s.generateParenthesis(3)\n",
    "generate_parentheses_1 = s.generateParenthesis(1)\n",
    "\n",
    "generate_parentheses_3, generate_parentheses_1"
   ]
  }
 ],
 "metadata": {
  "kernelspec": {
   "display_name": "Python 3",
   "language": "python",
   "name": "python3"
  },
  "language_info": {
   "codemirror_mode": {
    "name": "ipython",
    "version": 3
   },
   "file_extension": ".py",
   "mimetype": "text/x-python",
   "name": "python",
   "nbconvert_exporter": "python",
   "pygments_lexer": "ipython3",
   "version": "3.9.13"
  }
 },
 "nbformat": 4,
 "nbformat_minor": 2
}
