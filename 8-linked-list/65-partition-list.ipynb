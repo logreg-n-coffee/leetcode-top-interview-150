{
 "cells": [
  {
   "cell_type": "markdown",
   "metadata": {},
   "source": [
    "# Question 65 - LC 86. Partition List\n",
    "\n",
    "Given the `head` of a linked list and a value `x`, partition it such that all nodes **less than** `x` come before nodes **greater than or equal** to `x`.\n",
    "\n",
    "You should **preserve** the original relative order of the nodes in each of the two partitions.\n",
    "\n",
    "**Example 1:**\n",
    "\n",
    "    Input: head = [1,4,3,2,5,2], x = 3\n",
    "    Output: [1,2,2,4,3,5]\n",
    "\n",
    "**Example 2:**\n",
    "\n",
    "    Input: head = [2,1], x = 2\n",
    "    Output: [1,2]\n",
    "\n",
    "**Constraints:**\n",
    "\n",
    "- The number of nodes in the list is in the range `[0, 200]`.\n",
    "- `-100 <= Node.val <= 100`\n",
    "- `-200 <= x <= 200`\n"
   ]
  },
  {
   "cell_type": "code",
   "execution_count": null,
   "metadata": {},
   "outputs": [],
   "source": [
    "from __future__ import annotations\n",
    "from typing import Optional"
   ]
  },
  {
   "cell_type": "code",
   "execution_count": null,
   "metadata": {},
   "outputs": [],
   "source": [
    "# Definition for singly-linked list.\n",
    "class ListNode:\n",
    "    def __init__(self, val: int = 0, next: Optional[ListNode] = None):\n",
    "        self.val = val\n",
    "        self.next = next\n",
    "\n",
    "    @staticmethod\n",
    "    def from_list(l: list[int]) -> ListNode | None:\n",
    "        if not l:  # Check if the list is empty\n",
    "            return None  # Return None if the list is empty\n",
    "        head = ListNode(l[0])\n",
    "        current = head\n",
    "        for i in l[1:]:\n",
    "            current.next = ListNode(i)\n",
    "            current = current.next\n",
    "        return head\n",
    "\n",
    "    def to_list(self) -> list[int]:\n",
    "        l = [self.val]\n",
    "        current = self\n",
    "        while current.next:\n",
    "            current = current.next\n",
    "            l.append(current.val)\n",
    "        return l\n",
    "\n",
    "    def print(self) -> None:\n",
    "        print(self.to_list())"
   ]
  },
  {
   "cell_type": "code",
   "execution_count": null,
   "metadata": {},
   "outputs": [],
   "source": [
    "class Solution:\n",
    "    def partition(self, head: Optional[ListNode], x: int) -> Optional[ListNode]:\n",
    "        less_head = ListNode(0)  # Dummy head for the 'less' list\n",
    "        greater_head = ListNode(0)  # Dummy head for the 'greater' list\n",
    "        less = less_head  # Pointer for the 'less' list\n",
    "        greater = greater_head  # Pointer for the 'greater' list\n",
    "\n",
    "        while head:\n",
    "            if head.val < x:\n",
    "                less.next = head\n",
    "                less = less.next\n",
    "            else:\n",
    "                greater.next = head\n",
    "                greater = greater.next\n",
    "            head = head.next\n",
    "\n",
    "        greater.next = None  # Important to avoid cycle in linked list\n",
    "        less.next = greater_head.next  # Connect 'less' list with 'greater' list\n",
    "\n",
    "        return less_head.next  # Return the next of dummy head as it is the real head"
   ]
  },
  {
   "cell_type": "code",
   "execution_count": null,
   "metadata": {},
   "outputs": [],
   "source": []
  }
 ],
 "metadata": {
  "language_info": {
   "name": "python"
  }
 },
 "nbformat": 4,
 "nbformat_minor": 2
}
